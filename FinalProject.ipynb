{
 "cells": [
  {
   "cell_type": "code",
   "execution_count": 3,
   "metadata": {},
   "outputs": [],
   "source": [
    "import pandas as pd\n",
    "import numpy as np\n",
    "import random\n",
    "from scipy import stats\n",
    "import matplotlib.pyplot as plt\n",
    "plt.style.use('seaborn-whitegrid')\n",
    "\n",
    "def laplace_mech(v, sensitivity, epsilon):\n",
    "    return v + np.random.laplace(loc=0, scale=sensitivity / epsilon)\n",
    "\n",
    "def laplace_mech_vec(vec, sensitivity, epsilon):\n",
    "    return [v + np.random.laplace(loc=0, scale=sensitivity / epsilon) for v in vec]\n",
    "\n",
    "def gaussian_mech(v, sensitivity, epsilon, delta):\n",
    "    return v + np.random.normal(loc=0, scale=sensitivity * np.sqrt(2*np.log(1.25/delta)) / epsilon)\n",
    "\n",
    "def gaussian_mech_vec(vec, sensitivity, epsilon, delta):\n",
    "    return [v + np.random.normal(loc=0, scale=sensitivity * np.sqrt(2*np.log(1.25/delta)) / epsilon)\n",
    "            for v in vec]\n",
    "\n",
    "def pct_error(orig, priv):\n",
    "    return np.abs(orig - priv)/orig * 100.0\n",
    "\n",
    "data = pd.read_csv('https://github.com/TeemoXu/CS211_final/raw/main/bestsellers_with_categories.csv')"
   ]
  },
  {
   "cell_type": "code",
   "execution_count": 4,
   "metadata": {},
   "outputs": [],
   "source": [
    "def range_query(df, col, a, b):\n",
    "    return len(df[(df[col] >= a) & (df[col] < b)])"
   ]
  },
  {
   "cell_type": "code",
   "execution_count": 30,
   "metadata": {},
   "outputs": [
    {
     "name": "stdout",
     "output_type": "stream",
     "text": [
      "Average absolute error for laplace mechnism: 114.55796796333783\n",
      "Average absolute error for gaussion mechnism: 41.659116838702396\n"
     ]
    }
   ],
   "source": [
    "# for user rating column\n",
    "random_lower_bounds_rating = [random.uniform(3, 4) for _ in range(100)]\n",
    "random_workload_rating = [(lb, random.uniform(lb, 5)) for lb in random_lower_bounds_rating]\n",
    "real_rates = [range_query(data, 'User Rating', lb, ub) for (lb, ub) in random_workload_rating]\n",
    "\n",
    "# use of laplace mechnism \n",
    "def workload_laplace_vec(workload, epsilon):\n",
    "    sensitivity = 1 * len(workload)\n",
    "    answers = laplace_mech_vec([range_query(data, 'User Rating', lb, ub) for (lb, ub) in workload], sensitivity, epsilon)\n",
    "    return answers\n",
    "\n",
    "def workload_gaussian_vec(workload, epsilon, delta):\n",
    "    sensitivity = np.sqrt(len(workload))\n",
    "    answers = gaussian_mech_vec([range_query(data, 'User Rating', lb, ub) for (lb, ub) in workload], sensitivity, epsilon, delta)\n",
    "    return answers\n",
    "\n",
    "errors_lap = [abs(r_a - l_a) for (r_a, l_a) in zip(real_rates, workload_laplace_vec(random_workload_rating, 1.0))]\n",
    "errors_gau = [abs(r_a - l_a) for (r_a, l_a) in zip(real_rates, workload_gaussian_vec(random_workload_rating, 1.0, 1e-5))]\n",
    "print('Average absolute error for laplace mechnism:', np.mean(errors_lap))\n",
    "print('Average absolute error for gaussion mechnism:', np.mean(errors_gau))"
   ]
  },
  {
   "cell_type": "code",
   "execution_count": null,
   "metadata": {},
   "outputs": [],
   "source": []
  },
  {
   "cell_type": "code",
   "execution_count": null,
   "metadata": {},
   "outputs": [],
   "source": []
  }
 ],
 "metadata": {
  "kernelspec": {
   "display_name": "Python 3",
   "language": "python",
   "name": "python3"
  },
  "language_info": {
   "codemirror_mode": {
    "name": "ipython",
    "version": 3
   },
   "file_extension": ".py",
   "mimetype": "text/x-python",
   "name": "python",
   "nbconvert_exporter": "python",
   "pygments_lexer": "ipython3",
   "version": "3.8.3"
  }
 },
 "nbformat": 4,
 "nbformat_minor": 4
}
